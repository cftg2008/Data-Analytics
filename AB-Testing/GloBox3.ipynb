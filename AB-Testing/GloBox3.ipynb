{
 "cells": [
  {
   "cell_type": "markdown",
   "id": "c90aa211",
   "metadata": {},
   "source": [
    "## GloBox New Banner A/B Test Analysis\n",
    "\n",
    "Here we aim to analyze the results of the A/B test that compares two versions of the website (with/without the banner) to determine which one is better to increase revenue and conversion. By applying inferential statistics techniques, we can conclude the analysis results with precision. And to provide recommendation to GloBox management on whether to launch the new feature.   "
   ]
  },
  {
   "cell_type": "code",
   "execution_count": 46,
   "id": "1e387dc3",
   "metadata": {},
   "outputs": [],
   "source": [
    "#load libraries\n",
    "\n",
    "import pandas as pd\n",
    "import numpy as np\n",
    "from scipy.stats import ttest_ind"
   ]
  },
  {
   "cell_type": "code",
   "execution_count": 12,
   "id": "b9a9b8d7",
   "metadata": {},
   "outputs": [],
   "source": [
    "#load records from the database extracts \n",
    "\n",
    "df = pd.read_csv('/Users/cftsang/Documents/py-code/sprint2-data.csv')"
   ]
  },
  {
   "cell_type": "code",
   "execution_count": 13,
   "id": "3474708e",
   "metadata": {},
   "outputs": [
    {
     "data": {
      "text/html": [
       "<div>\n",
       "<style scoped>\n",
       "    .dataframe tbody tr th:only-of-type {\n",
       "        vertical-align: middle;\n",
       "    }\n",
       "\n",
       "    .dataframe tbody tr th {\n",
       "        vertical-align: top;\n",
       "    }\n",
       "\n",
       "    .dataframe thead th {\n",
       "        text-align: right;\n",
       "    }\n",
       "</style>\n",
       "<table border=\"1\" class=\"dataframe\">\n",
       "  <thead>\n",
       "    <tr style=\"text-align: right;\">\n",
       "      <th></th>\n",
       "      <th>uid</th>\n",
       "      <th>group</th>\n",
       "      <th>total_spent</th>\n",
       "    </tr>\n",
       "  </thead>\n",
       "  <tbody>\n",
       "    <tr>\n",
       "      <th>35893</th>\n",
       "      <td>1036675</td>\n",
       "      <td>A</td>\n",
       "      <td>0.0</td>\n",
       "    </tr>\n",
       "    <tr>\n",
       "      <th>28766</th>\n",
       "      <td>1029372</td>\n",
       "      <td>B</td>\n",
       "      <td>0.0</td>\n",
       "    </tr>\n",
       "    <tr>\n",
       "      <th>46781</th>\n",
       "      <td>1047801</td>\n",
       "      <td>B</td>\n",
       "      <td>0.0</td>\n",
       "    </tr>\n",
       "    <tr>\n",
       "      <th>39459</th>\n",
       "      <td>1040326</td>\n",
       "      <td>A</td>\n",
       "      <td>0.0</td>\n",
       "    </tr>\n",
       "    <tr>\n",
       "      <th>38712</th>\n",
       "      <td>1039554</td>\n",
       "      <td>B</td>\n",
       "      <td>0.0</td>\n",
       "    </tr>\n",
       "  </tbody>\n",
       "</table>\n",
       "</div>"
      ],
      "text/plain": [
       "           uid group  total_spent\n",
       "35893  1036675     A          0.0\n",
       "28766  1029372     B          0.0\n",
       "46781  1047801     B          0.0\n",
       "39459  1040326     A          0.0\n",
       "38712  1039554     B          0.0"
      ]
     },
     "execution_count": 13,
     "metadata": {},
     "output_type": "execute_result"
    }
   ],
   "source": [
    "#data sampling\n",
    "\n",
    "df.sample(5)"
   ]
  },
  {
   "cell_type": "code",
   "execution_count": 14,
   "id": "2df01150",
   "metadata": {},
   "outputs": [
    {
     "data": {
      "text/html": [
       "<div>\n",
       "<style scoped>\n",
       "    .dataframe tbody tr th:only-of-type {\n",
       "        vertical-align: middle;\n",
       "    }\n",
       "\n",
       "    .dataframe tbody tr th {\n",
       "        vertical-align: top;\n",
       "    }\n",
       "\n",
       "    .dataframe thead th {\n",
       "        text-align: right;\n",
       "    }\n",
       "</style>\n",
       "<table border=\"1\" class=\"dataframe\">\n",
       "  <thead>\n",
       "    <tr style=\"text-align: right;\">\n",
       "      <th></th>\n",
       "      <th>mean</th>\n",
       "      <th>std</th>\n",
       "      <th>count</th>\n",
       "    </tr>\n",
       "    <tr>\n",
       "      <th>group</th>\n",
       "      <th></th>\n",
       "      <th></th>\n",
       "      <th></th>\n",
       "    </tr>\n",
       "  </thead>\n",
       "  <tbody>\n",
       "    <tr>\n",
       "      <th>A</th>\n",
       "      <td>3.374518</td>\n",
       "      <td>25.936391</td>\n",
       "      <td>24343</td>\n",
       "    </tr>\n",
       "    <tr>\n",
       "      <th>B</th>\n",
       "      <td>3.390867</td>\n",
       "      <td>25.414110</td>\n",
       "      <td>24600</td>\n",
       "    </tr>\n",
       "  </tbody>\n",
       "</table>\n",
       "</div>"
      ],
      "text/plain": [
       "           mean        std  count\n",
       "group                            \n",
       "A      3.374518  25.936391  24343\n",
       "B      3.390867  25.414110  24600"
      ]
     },
     "execution_count": 14,
     "metadata": {},
     "output_type": "execute_result"
    }
   ],
   "source": [
    "#basic statistics\n",
    "\n",
    "df.groupby('group')['total_spent'].agg(['mean', 'std', 'count'])"
   ]
  },
  {
   "cell_type": "markdown",
   "id": "d5fb8c4c",
   "metadata": {},
   "source": [
    "### A/B Testing"
   ]
  },
  {
   "cell_type": "markdown",
   "id": "92e33313",
   "metadata": {},
   "source": [
    "### Revenue\n",
    "What is the 95% of confidence interval for the difference in the average revenue per user between the test and the control (test - control)?\n",
    "\n",
    "The Null Hypopthesis is that the mean revenue for the control is the same as the mean revenue for the test.\n",
    "\n",
    "**H0:** mean(test) == mean(control)<br>\n",
    "**H1:** mean(test) != mean(control)\n",
    "\n",
    "We are testing whether the experiment is successful."
   ]
  },
  {
   "cell_type": "code",
   "execution_count": 15,
   "id": "2056f5bf",
   "metadata": {},
   "outputs": [
    {
     "name": "stdout",
     "output_type": "stream",
     "text": [
      "mean   -0.438638\n",
      "Name: total_spent, dtype: float64 mean    0.471335\n",
      "Name: total_spent, dtype: float64\n"
     ]
    },
    {
     "data": {
      "text/plain": [
       "Ttest_indResult(statistic=0.07043243220818624, pvalue=0.9438497659410893)"
      ]
     },
     "execution_count": 15,
     "metadata": {},
     "output_type": "execute_result"
    }
   ],
   "source": [
    "#group_a -> this control group does not see the food banner. group_b -> this test group sees the food banner\n",
    "\n",
    "group_a = df[df.group == 'A']['total_spent']\n",
    "group_b = df[df.group == 'B']['total_spent']\n",
    "\n",
    "#critical value for the 95% confidence level\n",
    "crit=1.96\n",
    "\n",
    "#find mean difference\n",
    "mean_a=group_a.agg(['mean'])\n",
    "mean_b=group_b.agg(['mean'])\n",
    "mean_diff = mean_b - mean_a\n",
    "\n",
    "#calculate confidence interval\n",
    "std_a = np.std(group_a)\n",
    "std_b = np.std(group_b)\n",
    "se = np.sqrt((std_a**2/group_a.count())+(std_b**2/group_b.count()))\n",
    "print(mean_diff - crit*se, mean_diff + crit*se)\n",
    "\n",
    "#calculate p-value\n",
    "ttest_ind(group_b, group_a)"
   ]
  },
  {
   "cell_type": "markdown",
   "id": "68166dd8",
   "metadata": {},
   "source": [
    "**Summary:**\n",
    "- 95% confidence intervals (-0.438638, 0.471335).\n",
    "- As p-value 0.944 > alpha 0.05, it is not statistically significant. We failed to reject the null hypothesis H0.\n",
    "- Two groups have no significant differences in revenue."
   ]
  },
  {
   "cell_type": "code",
   "execution_count": 16,
   "id": "1e9f92dd",
   "metadata": {},
   "outputs": [
    {
     "data": {
      "image/png": "[encoded data removed]",
      "text/plain": [
       "<Figure size 432x288 with 1 Axes>"
      ]
     },
     "metadata": {
      "needs_background": "light"
     },
     "output_type": "display_data"
    }
   ],
   "source": [
    "#plot revenue bar chart\n",
    "\n",
    "import matplotlib.pyplot as plt\n",
    "import seaborn as sns\n",
    "\n",
    "sns.barplot(y = \"total_spent\", x = \"group\", data = df, ci=None)\n",
    "plt.title(\"Revenue per user: Test vs. Control\")\n",
    "plt.ylabel(\"mean revenue\")\n",
    "plt.show()"
   ]
  },
  {
   "cell_type": "markdown",
   "id": "6a0b481a",
   "metadata": {},
   "source": [
    "### Conversion\n",
    "\n",
    "Is there any difference in the conversion proportion between the test and the control? (significant level 0.05)\n",
    "\n",
    "The Null Hypopthesis is that the conversion proportion for the control (Pa) is the same as the conversion proportion for the test (Pb).\n",
    "\n",
    "**H0 (Null hypothesis)** : Pa = Pb \n",
    "\n",
    "**Ha (Alternative hypothesis)**: Pa != Pb"
   ]
  },
  {
   "cell_type": "code",
   "execution_count": 60,
   "id": "7f5a450e",
   "metadata": {},
   "outputs": [
    {
     "name": "stdout",
     "output_type": "stream",
     "text": [
      "0.00011141198532937935\n"
     ]
    }
   ],
   "source": [
    "from scipy.stats import norm\n",
    "\n",
    "#conversion size A & conversion size B\n",
    "cva=df[(df.group=='A') & (df.total_spent > 0)]['uid'].count()\n",
    "cvb=df[(df.group=='B') & (df.total_spent > 0)]['uid'].count()\n",
    "#group A size & group B size\n",
    "na=group_a.count()\n",
    "nb=group_b.count()\n",
    "\n",
    "#mean\n",
    "Pa_hat = cva / na\n",
    "Pb_hat = cvb / nb\n",
    "\n",
    "#compute pooled sample proportion\n",
    "P_hat = (cva + cvb)/(na + nb)\n",
    "\n",
    "#compute test statistic Z\n",
    "Z = (Pa_hat - Pb_hat) / np.sqrt((P_hat*(1-P_hat)) * (1/na + 1/nb))\n",
    "\n",
    "#compute p-value for Z\n",
    "pv=2*(1-norm.cdf(abs(Z)))\n",
    "print(pv)"
   ]
  },
  {
   "cell_type": "markdown",
   "id": "10702a72",
   "metadata": {},
   "source": [
    "**Summary:**\n",
    "- The P-value is 0.00011, it is statistically significant. \n",
    "- Because p-value <= alpha 0.05, we reject the null hypothesis. Again, there is sufficient evidence at the 0.05 level to conclude that the two populations differ with respect to their conversion proportions."
   ]
  },
  {
   "cell_type": "code",
   "execution_count": 10,
   "id": "c64591f1",
   "metadata": {},
   "outputs": [
    {
     "name": "stderr",
     "output_type": "stream",
     "text": [
      "/Users/cftsang/opt/anaconda3/lib/python3.9/site-packages/pandas/core/indexing.py:1817: SettingWithCopyWarning: \n",
      "A value is trying to be set on a copy of a slice from a DataFrame.\n",
      "Try using .loc[row_indexer,col_indexer] = value instead\n",
      "\n",
      "See the caveats in the documentation: https://pandas.pydata.org/pandas-docs/stable/user_guide/indexing.html#returning-a-view-versus-a-copy\n",
      "  self._setitem_single_column(loc, value, pi)\n",
      "/Users/cftsang/opt/anaconda3/lib/python3.9/site-packages/pandas/core/frame.py:5039: SettingWithCopyWarning: \n",
      "A value is trying to be set on a copy of a slice from a DataFrame\n",
      "\n",
      "See the caveats in the documentation: https://pandas.pydata.org/pandas-docs/stable/user_guide/indexing.html#returning-a-view-versus-a-copy\n",
      "  return super().rename(\n"
     ]
    },
    {
     "data": {
      "image/png": "[encoded data removed]",
      "text/plain": [
       "<Figure size 432x288 with 1 Axes>"
      ]
     },
     "metadata": {
      "needs_background": "light"
     },
     "output_type": "display_data"
    }
   ],
   "source": [
    "#plot conversion bar chart\n",
    "\n",
    "import matplotlib.pyplot as plt\n",
    "import seaborn as sns\n",
    "\n",
    "cv=df[df.total_spent > 0]\n",
    "# Applying the condition\n",
    "cv.loc[cv[\"group\"] == \"A\", \"group\"] = \"Control\"\n",
    "cv.loc[cv[\"group\"] == \"B\", \"group\"] = \"Test\"\n",
    "\n",
    "cv.rename(columns = {'total_spent':'convt_num'}, inplace = True)\n",
    "sns.barplot(y = \"convt_num\", x = \"group\", data = cv, ci=None)\n",
    "\n",
    "plt.title(\"Conversion per user: Test vs. Control\")\n",
    "plt.ylabel(\"Mean Conversion\")\n",
    "plt.show()"
   ]
  },
  {
   "cell_type": "code",
   "execution_count": null,
   "id": "1f498b2d",
   "metadata": {},
   "outputs": [],
   "source": []
  }
 ],
 "metadata": {
  "kernelspec": {
   "display_name": "Python 3 (ipykernel)",
   "language": "python",
   "name": "python3"
  },
  "language_info": {
   "codemirror_mode": {
    "name": "ipython",
    "version": 3
   },
   "file_extension": ".py",
   "mimetype": "text/x-python",
   "name": "python",
   "nbconvert_exporter": "python",
   "pygments_lexer": "ipython3",
   "version": "3.9.7"
  }
 },
 "nbformat": 4,
 "nbformat_minor": 5
}
